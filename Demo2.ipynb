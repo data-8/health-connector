{
 "cells": [
  {
   "cell_type": "code",
   "execution_count": null,
   "metadata": {
    "collapsed": true
   },
   "outputs": [],
   "source": [
    "# HIDDEN\n",
    "\n",
    "import matplotlib\n",
    "matplotlib.use('Agg')\n",
    "from datascience import *\n",
    "%matplotlib inline\n",
    "import matplotlib.pyplot as plots\n",
    "import numpy as np\n",
    "import math\n",
    "import scipy.stats as stats\n",
    "plots.style.use('fivethirtyeight')"
   ]
  },
  {
   "cell_type": "markdown",
   "metadata": {},
   "source": [
    "These are data on smoking (designated by either 0 or 1 per person) and continuous weight in two waves (waves 8 and 9) of a panel survey. In this series of exercises, you will be manipulating data in the table to determine whether or not the average weight is higher in smokers or non smokers. "
   ]
  },
  {
   "cell_type": "markdown",
   "metadata": {},
   "source": [
    "Make some predictions regarding the results; which average weight do you think will be higher, the weight of smokers or the weight of non-smokers? Why is that?"
   ]
  },
  {
   "cell_type": "code",
   "execution_count": null,
   "metadata": {
    "collapsed": true
   },
   "outputs": [],
   "source": [
    "#Write your prediction here"
   ]
  },
  {
   "cell_type": "code",
   "execution_count": 10,
   "metadata": {
    "collapsed": false
   },
   "outputs": [
    {
     "data": {
      "text/html": [
       "<table border=\"1\" class=\"dataframe\">\n",
       "    <thead>\n",
       "        <tr>\n",
       "            <th>hhidpn</th> <th>ragender</th> <th>r8agey_m</th> <th>r8weight</th> <th>r9weight</th> <th>r8smoken</th> <th>r9smoken</th>\n",
       "        </tr>\n",
       "    </thead>\n",
       "    <tbody>\n",
       "        <tr>\n",
       "            <td>3010    </td> <td>1       </td> <td>70      </td> <td>71.6672 </td> <td>65.317  </td> <td>0       </td> <td>0       </td>\n",
       "        </tr>\n",
       "    </tbody>\n",
       "        <tr>\n",
       "            <td>3020    </td> <td>2       </td> <td>67      </td> <td>65.317  </td> <td>68.0385 </td> <td>0       </td> <td>0       </td>\n",
       "        </tr>\n",
       "    </tbody>\n",
       "        <tr>\n",
       "            <td>10001010</td> <td>1       </td> <td>66      </td> <td>72.5744 </td> <td>72.5744 </td> <td>0       </td> <td>0       </td>\n",
       "        </tr>\n",
       "    </tbody>\n",
       "        <tr>\n",
       "            <td>10003030</td> <td>2       </td> <td>50      </td> <td>58.9667 </td> <td>72.5744 </td> <td>0       </td> <td>0       </td>\n",
       "        </tr>\n",
       "    </tbody>\n",
       "        <tr>\n",
       "            <td>10004010</td> <td>1       </td> <td>66      </td> <td>102.511 </td> <td>100.697 </td> <td>0       </td> <td>0       </td>\n",
       "        </tr>\n",
       "    </tbody>\n",
       "        <tr>\n",
       "            <td>10004040</td> <td>2       </td> <td>60      </td> <td>77.1103 </td> <td>74.8423 </td> <td>0       </td> <td>0       </td>\n",
       "        </tr>\n",
       "    </tbody>\n",
       "        <tr>\n",
       "            <td>10013010</td> <td>1       </td> <td>68      </td> <td>108.862 </td> <td>99.7898 </td> <td>0       </td> <td>0       </td>\n",
       "        </tr>\n",
       "    </tbody>\n",
       "        <tr>\n",
       "            <td>10013040</td> <td>2       </td> <td>58      </td> <td>64.4098 </td> <td>63.5026 </td> <td>1       </td> <td>1       </td>\n",
       "        </tr>\n",
       "    </tbody>\n",
       "        <tr>\n",
       "            <td>10038010</td> <td>1       </td> <td>70      </td> <td>74.8423 </td> <td>73.4816 </td> <td>0       </td> <td>0       </td>\n",
       "        </tr>\n",
       "    </tbody>\n",
       "        <tr>\n",
       "            <td>10038040</td> <td>2       </td> <td>63      </td> <td>64.4098 </td> <td>63.5026 </td> <td>0       </td> <td>0       </td>\n",
       "        </tr>\n",
       "    </tbody>\n",
       "</table>\n",
       "<p>... (16009 rows omitted)</p"
      ],
      "text/plain": [
       "hhidpn   | ragender | r8agey_m | r8weight | r9weight | r8smoken | r9smoken\n",
       "3010     | 1        | 70       | 71.6672  | 65.317   | 0        | 0\n",
       "3020     | 2        | 67       | 65.317   | 68.0385  | 0        | 0\n",
       "10001010 | 1        | 66       | 72.5744  | 72.5744  | 0        | 0\n",
       "10003030 | 2        | 50       | 58.9667  | 72.5744  | 0        | 0\n",
       "10004010 | 1        | 66       | 102.511  | 100.697  | 0        | 0\n",
       "10004040 | 2        | 60       | 77.1103  | 74.8423  | 0        | 0\n",
       "10013010 | 1        | 68       | 108.862  | 99.7898  | 0        | 0\n",
       "10013040 | 2        | 58       | 64.4098  | 63.5026  | 1        | 1\n",
       "10038010 | 1        | 70       | 74.8423  | 73.4816  | 0        | 0\n",
       "10038040 | 2        | 63       | 64.4098  | 63.5026  | 0        | 0\n",
       "... (16009 rows omitted)"
      ]
     },
     "execution_count": 10,
     "metadata": {},
     "output_type": "execute_result"
    }
   ],
   "source": [
    "#load file\n",
    "smoker_ratio = Table.read_table('c08_r89smokeweight.csv')\n",
    "smoker_ratio"
   ]
  },
  {
   "cell_type": "markdown",
   "metadata": {},
   "source": [
    "<h3><font color = \"black\">Questions:</h3></font>\n",
    "<p>\n",
    "1. Filter the table by only including rows where r8smoken=1"
   ]
  },
  {
   "cell_type": "code",
   "execution_count": 15,
   "metadata": {
    "collapsed": false
   },
   "outputs": [
    {
     "data": {
      "text/html": [
       "<table border=\"1\" class=\"dataframe\">\n",
       "    <thead>\n",
       "        <tr>\n",
       "            <th>hhidpn</th> <th>ragender</th> <th>r8agey_m</th> <th>r8weight</th> <th>r9weight</th> <th>r8smoken</th> <th>r9smoken</th>\n",
       "        </tr>\n",
       "    </thead>\n",
       "    <tbody>\n",
       "        <tr>\n",
       "            <td>10013040</td> <td>2       </td> <td>58      </td> <td>64.4098 </td> <td>63.5026 </td> <td>1       </td> <td>1       </td>\n",
       "        </tr>\n",
       "    </tbody>\n",
       "        <tr>\n",
       "            <td>10059020</td> <td>2       </td> <td>70      </td> <td>57.6059 </td> <td>57.1523 </td> <td>1       </td> <td>1       </td>\n",
       "        </tr>\n",
       "    </tbody>\n",
       "        <tr>\n",
       "            <td>10083010</td> <td>1       </td> <td>67      </td> <td>122.469 </td> <td>95.7075 </td> <td>1       </td> <td>0       </td>\n",
       "        </tr>\n",
       "    </tbody>\n",
       "        <tr>\n",
       "            <td>10196010</td> <td>2       </td> <td>71      </td> <td>58.9667 </td> <td>52.1628 </td> <td>1       </td> <td>0       </td>\n",
       "        </tr>\n",
       "    </tbody>\n",
       "        <tr>\n",
       "            <td>10433010</td> <td>2       </td> <td>71      </td> <td>125.644 </td> <td>120.201 </td> <td>1       </td> <td>0       </td>\n",
       "        </tr>\n",
       "    </tbody>\n",
       "        <tr>\n",
       "            <td>10482010</td> <td>2       </td> <td>65      </td> <td>61.2347 </td> <td>65.7706 </td> <td>1       </td> <td>1       </td>\n",
       "        </tr>\n",
       "    </tbody>\n",
       "        <tr>\n",
       "            <td>10577011</td> <td>1       </td> <td>56      </td> <td>105.233 </td> <td>105.686 </td> <td>1       </td> <td>1       </td>\n",
       "        </tr>\n",
       "    </tbody>\n",
       "        <tr>\n",
       "            <td>11071010</td> <td>2       </td> <td>73      </td> <td>81.6462 </td> <td>77.1103 </td> <td>1       </td> <td>1       </td>\n",
       "        </tr>\n",
       "    </tbody>\n",
       "        <tr>\n",
       "            <td>11230010</td> <td>2       </td> <td>70      </td> <td>63.5026 </td> <td>65.7706 </td> <td>1       </td> <td>1       </td>\n",
       "        </tr>\n",
       "    </tbody>\n",
       "        <tr>\n",
       "            <td>11345010</td> <td>1       </td> <td>66      </td> <td>86.1821 </td> <td>86.1821 </td> <td>1       </td> <td>1       </td>\n",
       "        </tr>\n",
       "    </tbody>\n",
       "</table>\n",
       "<p>... (2212 rows omitted)</p"
      ],
      "text/plain": [
       "hhidpn   | ragender | r8agey_m | r8weight | r9weight | r8smoken | r9smoken\n",
       "10013040 | 2        | 58       | 64.4098  | 63.5026  | 1        | 1\n",
       "10059020 | 2        | 70       | 57.6059  | 57.1523  | 1        | 1\n",
       "10083010 | 1        | 67       | 122.469  | 95.7075  | 1        | 0\n",
       "10196010 | 2        | 71       | 58.9667  | 52.1628  | 1        | 0\n",
       "10433010 | 2        | 71       | 125.644  | 120.201  | 1        | 0\n",
       "10482010 | 2        | 65       | 61.2347  | 65.7706  | 1        | 1\n",
       "10577011 | 1        | 56       | 105.233  | 105.686  | 1        | 1\n",
       "11071010 | 2        | 73       | 81.6462  | 77.1103  | 1        | 1\n",
       "11230010 | 2        | 70       | 63.5026  | 65.7706  | 1        | 1\n",
       "11345010 | 1        | 66       | 86.1821  | 86.1821  | 1        | 1\n",
       "... (2212 rows omitted)"
      ]
     },
     "execution_count": 15,
     "metadata": {},
     "output_type": "execute_result"
    }
   ],
   "source": [
    "smoker8_weight_filter = smoker_ratio.where(smoker_ratio['r8smoken']== 1)\n",
    "smoker8_weight_filter"
   ]
  },
  {
   "cell_type": "markdown",
   "metadata": {},
   "source": [
    "2. Assign the column of smoker weights in wave 8 to an array called smoker8_weight."
   ]
  },
  {
   "cell_type": "code",
   "execution_count": 17,
   "metadata": {
    "collapsed": false
   },
   "outputs": [
    {
     "data": {
      "text/plain": [
       "array([  64.40978,   57.60593,  122.4693 , ...,   90.718  ,   65.77055,\n",
       "         56.69875])"
      ]
     },
     "execution_count": 17,
     "metadata": {},
     "output_type": "execute_result"
    }
   ],
   "source": [
    "#Select the column of smoker weights in wave 8\n",
    "smoker8_weight = smoker8_weight_filter['r8weight']\n",
    "smoker8_weight"
   ]
  },
  {
   "cell_type": "markdown",
   "metadata": {},
   "source": [
    "3. Compute the average weight of smokers in wave 8 using smoker8_weight. "
   ]
  },
  {
   "cell_type": "code",
   "execution_count": 18,
   "metadata": {
    "collapsed": false
   },
   "outputs": [
    {
     "data": {
      "text/plain": [
       "76.134530202520253"
      ]
     },
     "execution_count": 18,
     "metadata": {},
     "output_type": "execute_result"
    }
   ],
   "source": [
    "smoker8_avg= smoker8_weight.mean()\n",
    "smoker8_avg"
   ]
  },
  {
   "cell_type": "markdown",
   "metadata": {},
   "source": [
    "4a. Now that you have calculated the average weight of smokers in wave 8, lets now calculate the average weight of non-smokers.\n",
    "Select from the table only rows where r8smoken = 0."
   ]
  },
  {
   "cell_type": "code",
   "execution_count": 20,
   "metadata": {
    "collapsed": false
   },
   "outputs": [
    {
     "data": {
      "text/html": [
       "<table border=\"1\" class=\"dataframe\">\n",
       "    <thead>\n",
       "        <tr>\n",
       "            <th>hhidpn</th> <th>ragender</th> <th>r8agey_m</th> <th>r8weight</th> <th>r9weight</th> <th>r8smoken</th> <th>r9smoken</th>\n",
       "        </tr>\n",
       "    </thead>\n",
       "    <tbody>\n",
       "        <tr>\n",
       "            <td>3010    </td> <td>1       </td> <td>70      </td> <td>71.6672 </td> <td>65.317  </td> <td>0       </td> <td>0       </td>\n",
       "        </tr>\n",
       "    </tbody>\n",
       "        <tr>\n",
       "            <td>3020    </td> <td>2       </td> <td>67      </td> <td>65.317  </td> <td>68.0385 </td> <td>0       </td> <td>0       </td>\n",
       "        </tr>\n",
       "    </tbody>\n",
       "        <tr>\n",
       "            <td>10001010</td> <td>1       </td> <td>66      </td> <td>72.5744 </td> <td>72.5744 </td> <td>0       </td> <td>0       </td>\n",
       "        </tr>\n",
       "    </tbody>\n",
       "        <tr>\n",
       "            <td>10003030</td> <td>2       </td> <td>50      </td> <td>58.9667 </td> <td>72.5744 </td> <td>0       </td> <td>0       </td>\n",
       "        </tr>\n",
       "    </tbody>\n",
       "        <tr>\n",
       "            <td>10004010</td> <td>1       </td> <td>66      </td> <td>102.511 </td> <td>100.697 </td> <td>0       </td> <td>0       </td>\n",
       "        </tr>\n",
       "    </tbody>\n",
       "        <tr>\n",
       "            <td>10004040</td> <td>2       </td> <td>60      </td> <td>77.1103 </td> <td>74.8423 </td> <td>0       </td> <td>0       </td>\n",
       "        </tr>\n",
       "    </tbody>\n",
       "        <tr>\n",
       "            <td>10013010</td> <td>1       </td> <td>68      </td> <td>108.862 </td> <td>99.7898 </td> <td>0       </td> <td>0       </td>\n",
       "        </tr>\n",
       "    </tbody>\n",
       "        <tr>\n",
       "            <td>10038010</td> <td>1       </td> <td>70      </td> <td>74.8423 </td> <td>73.4816 </td> <td>0       </td> <td>0       </td>\n",
       "        </tr>\n",
       "    </tbody>\n",
       "        <tr>\n",
       "            <td>10038040</td> <td>2       </td> <td>63      </td> <td>64.4098 </td> <td>63.5026 </td> <td>0       </td> <td>0       </td>\n",
       "        </tr>\n",
       "    </tbody>\n",
       "        <tr>\n",
       "            <td>10050010</td> <td>2       </td> <td>64      </td> <td>68.0385 </td> <td>68.0385 </td> <td>0       </td> <td>0       </td>\n",
       "        </tr>\n",
       "    </tbody>\n",
       "</table>\n",
       "<p>... (13787 rows omitted)</p"
      ],
      "text/plain": [
       "hhidpn   | ragender | r8agey_m | r8weight | r9weight | r8smoken | r9smoken\n",
       "3010     | 1        | 70       | 71.6672  | 65.317   | 0        | 0\n",
       "3020     | 2        | 67       | 65.317   | 68.0385  | 0        | 0\n",
       "10001010 | 1        | 66       | 72.5744  | 72.5744  | 0        | 0\n",
       "10003030 | 2        | 50       | 58.9667  | 72.5744  | 0        | 0\n",
       "10004010 | 1        | 66       | 102.511  | 100.697  | 0        | 0\n",
       "10004040 | 2        | 60       | 77.1103  | 74.8423  | 0        | 0\n",
       "10013010 | 1        | 68       | 108.862  | 99.7898  | 0        | 0\n",
       "10038010 | 1        | 70       | 74.8423  | 73.4816  | 0        | 0\n",
       "10038040 | 2        | 63       | 64.4098  | 63.5026  | 0        | 0\n",
       "10050010 | 2        | 64       | 68.0385  | 68.0385  | 0        | 0\n",
       "... (13787 rows omitted)"
      ]
     },
     "execution_count": 20,
     "metadata": {},
     "output_type": "execute_result"
    }
   ],
   "source": [
    "non8_weight_filter = smoker_ratio.where(smoker_ratio['r8smoken']== 0)\n",
    "non8_weight_filter"
   ]
  },
  {
   "cell_type": "markdown",
   "metadata": {},
   "source": [
    "4b. Select the column of non-smoker weights in wave 8"
   ]
  },
  {
   "cell_type": "code",
   "execution_count": 21,
   "metadata": {
    "collapsed": false
   },
   "outputs": [
    {
     "data": {
      "text/plain": [
       "array([  71.66722,   65.31696,   72.5744 , ...,  102.9649 ,   56.69875,\n",
       "         81.6462 ])"
      ]
     },
     "execution_count": 21,
     "metadata": {},
     "output_type": "execute_result"
    }
   ],
   "source": [
    "non8_weight = non8_weight_filter['r8weight']\n",
    "non8_weight"
   ]
  },
  {
   "cell_type": "markdown",
   "metadata": {},
   "source": [
    "4c. Compute the average weight of non-smokers in wave 8"
   ]
  },
  {
   "cell_type": "code",
   "execution_count": 22,
   "metadata": {
    "collapsed": false
   },
   "outputs": [
    {
     "data": {
      "text/plain": [
       "79.945557732115674"
      ]
     },
     "execution_count": 22,
     "metadata": {},
     "output_type": "execute_result"
    }
   ],
   "source": [
    "non8_avg= non8_weight.mean()\n",
    "non8_avg"
   ]
  },
  {
   "cell_type": "markdown",
   "metadata": {},
   "source": [
    "5. Now, calculate the difference between the two averages"
   ]
  },
  {
   "cell_type": "code",
   "execution_count": 31,
   "metadata": {
    "collapsed": false
   },
   "outputs": [
    {
     "data": {
      "text/plain": [
       "0.0"
      ]
     },
     "execution_count": 31,
     "metadata": {},
     "output_type": "execute_result"
    }
   ],
   "source": [
    "wave8_diff = non8_avg - smoker8_avg\n",
    "wave8_diff"
   ]
  },
  {
   "cell_type": "markdown",
   "metadata": {},
   "source": [
    "Observe the differences between the two averages: which number is higher? Do the results match the predications you made at the beginning of this exercise?"
   ]
  },
  {
   "cell_type": "markdown",
   "metadata": {},
   "source": [
    "Now, let's calculate the average weight of a smoker for wave 9. Try to fill in the blanks, and once again make some predictions regarding the results."
   ]
  },
  {
   "cell_type": "code",
   "execution_count": null,
   "metadata": {
    "collapsed": true
   },
   "outputs": [],
   "source": [
    "#Filter the table by only including rows where r9smoken=0\n",
    "smoker9_weight_filter = smoker_ratio.......\n",
    "smoker9_weight_filter"
   ]
  },
  {
   "cell_type": "code",
   "execution_count": null,
   "metadata": {
    "collapsed": true
   },
   "outputs": [],
   "source": [
    "#Select the column of smoker weights in wave 9\n",
    "smoker9_weight = ........\n",
    "smoker9_weight"
   ]
  },
  {
   "cell_type": "code",
   "execution_count": null,
   "metadata": {
    "collapsed": true
   },
   "outputs": [],
   "source": [
    "#Compute the average weight of smokers in wave 9\n",
    "smoker9_avg= ........\n",
    "smoker9_avg"
   ]
  },
  {
   "cell_type": "markdown",
   "metadata": {
    "collapsed": false
   },
   "source": [
    "Now that you have successfully calculated the average weight of smokers in wave 9, do the results match your predictions? Are the numbers similar? Which one is closer to the true effect of smoking on weight? Should we also look at the change of weight among people who are nonsmokers in both waves?"
   ]
  },
  {
   "cell_type": "code",
   "execution_count": null,
   "metadata": {
    "collapsed": true
   },
   "outputs": [],
   "source": [
    "#Write your response here."
   ]
  }
 ],
 "metadata": {
  "kernelspec": {
   "display_name": "Python 3",
   "language": "python",
   "name": "python3"
  },
  "language_info": {
   "codemirror_mode": {
    "name": "ipython",
    "version": 3
   },
   "file_extension": ".py",
   "mimetype": "text/x-python",
   "name": "python",
   "nbconvert_exporter": "python",
   "pygments_lexer": "ipython3",
   "version": "3.4.0"
  }
 },
 "nbformat": 4,
 "nbformat_minor": 0
}
